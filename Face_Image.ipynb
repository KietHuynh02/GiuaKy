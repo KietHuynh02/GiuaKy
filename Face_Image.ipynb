{
  "nbformat": 4,
  "nbformat_minor": 0,
  "metadata": {
    "colab": {
      "provenance": [],
      "mount_file_id": "16Oqh-1RjoQFTxoiRjOIl_wH_RPxpNju7",
      "authorship_tag": "ABX9TyPACbJHfLWkX+LjTv+EjuCt",
      "include_colab_link": true
    },
    "kernelspec": {
      "name": "python3",
      "display_name": "Python 3"
    },
    "language_info": {
      "name": "python"
    },
    "accelerator": "GPU",
    "gpuClass": "standard"
  },
  "cells": [
    {
      "cell_type": "markdown",
      "metadata": {
        "id": "view-in-github",
        "colab_type": "text"
      },
      "source": [
        "<a href=\"https://colab.research.google.com/github/KietHuynh02/GiuaKy/blob/main/Face_Image.ipynb\" target=\"_parent\"><img src=\"https://colab.research.google.com/assets/colab-badge.svg\" alt=\"Open In Colab\"/></a>"
      ]
    },
    {
      "cell_type": "code",
      "execution_count": null,
      "metadata": {
        "colab": {
          "base_uri": "https://localhost:8080/"
        },
        "id": "jXj4_RiVIt0B",
        "outputId": "a3dcf5fd-9519-4f22-abee-7f1442f19275"
      },
      "outputs": [
        {
          "output_type": "stream",
          "name": "stdout",
          "text": [
            "(1125, 30, 40, 3) (1125,)\n"
          ]
        }
      ],
      "source": [
        "from os import listdir\n",
        "from numpy import asarray, save\n",
        "from keras.utils import load_img, img_to_array\n",
        "\n",
        "folder = 'drive/MyDrive/Class_Photo/'\n",
        "\n",
        "photos, labels = list(), list()\n",
        "for file in listdir(folder):\n",
        "  output = 0.0\n",
        "  if file.startswith('Anhkiet '):\n",
        "    output = 1.0\n",
        "  if file.startswith('Binh '):\n",
        "    output = 2.0\n",
        "  if file.startswith('Dangkhoa '):\n",
        "    output = 3.0\n",
        "  if file.startswith('Dat '):\n",
        "    output = 4.0\n",
        "  if file.startswith('Dung '):\n",
        "    output = 5.0\n",
        "  if file.startswith('Ha '):\n",
        "    output = 6.0\n",
        "  if file.startswith('Hau '):\n",
        "    output = 7.0\n",
        "  if file.startswith('Hieu '):\n",
        "    output = 8.0\n",
        "  if file.startswith('Hoaiphong '):\n",
        "    output = 9.0\n",
        "  if file.startswith('Hoang '):\n",
        "    output = 10.0\n",
        "  if file.startswith('Huy '):\n",
        "    output = 11.0\n",
        "  if file.startswith('KyAnh '):\n",
        "    output = 12.0\n",
        "  if file.startswith('Loc '):\n",
        "    output = 13.0\n",
        "  if file.startswith('Long '):\n",
        "    output = 14.0\n",
        "  if file.startswith('Luan '):\n",
        "    output = 15.0\n",
        "  if file.startswith('Minh '):\n",
        "    output = 16.0\n",
        "  if file.startswith('Ngocthach '):\n",
        "    output = 17.0\n",
        "  if file.startswith('Nhathuy '):\n",
        "    output = 18.0\n",
        "  if file.startswith('Phat '):\n",
        "    output = 19.0\n",
        "  if file.startswith('Phuc '):\n",
        "    output = 20.0\n",
        "  if file.startswith('Quanghuy '):\n",
        "    output = 21.0\n",
        "  if file.startswith('Quangphuc '):\n",
        "    output = 22.0\n",
        "  if file.startswith('Sang '):\n",
        "    output = 23.0\n",
        "  if file.startswith('Thai '):\n",
        "    output = 24.0\n",
        "  if file.startswith('Tung '):\n",
        "    output = 25.0\n",
        "\n",
        "  photo = load_img(folder + file, target_size =(30,40))\n",
        "  photo = img_to_array(photo)\n",
        "  photos.append(photo)\n",
        "  labels.append(output)\n",
        "# Train\n",
        "photos_train = asarray(photos)\n",
        "labels_train = asarray(labels)\n",
        "print(photos_train.shape,labels_train.shape)"
      ]
    },
    {
      "cell_type": "code",
      "source": [
        "folder = 'drive/MyDrive/Class_Photo_Test/'\n",
        "\n",
        "photos, labels = list(), list()\n",
        "for file in listdir(folder):\n",
        "  output = 0.0\n",
        "  if file.startswith('Anhkiet '):\n",
        "    output = 1.0\n",
        "  if file.startswith('Binh '):\n",
        "    output = 2.0\n",
        "  if file.startswith('Dangkhoa '):\n",
        "    output = 3.0\n",
        "  if file.startswith('Dat '):\n",
        "    output = 4.0\n",
        "  if file.startswith('Dung '):\n",
        "    output = 5.0\n",
        "  if file.startswith('Ha '):\n",
        "    output = 6.0\n",
        "  if file.startswith('Hau '):\n",
        "    output = 7.0\n",
        "  if file.startswith('Hieu '):\n",
        "    output = 8.0\n",
        "  if file.startswith('Hoaiphong '):\n",
        "    output = 9.0\n",
        "  if file.startswith('Hoang '):\n",
        "    output = 10.0\n",
        "  if file.startswith('Huy '):\n",
        "    output = 11.0\n",
        "  if file.startswith('Kyanh '):\n",
        "    output = 12.0\n",
        "  if file.startswith('Loc '):\n",
        "    output = 13.0\n",
        "  if file.startswith('Long '):\n",
        "    output = 14.0\n",
        "  if file.startswith('Luan '):\n",
        "    output = 15.0\n",
        "  if file.startswith('Minh '):\n",
        "    output = 16.0\n",
        "  if file.startswith('Ngocthach '):\n",
        "    output = 17.0\n",
        "  if file.startswith('Nhathuy '):\n",
        "    output = 18.0\n",
        "  if file.startswith('Phat '):\n",
        "    output = 19.0\n",
        "  if file.startswith('Phuc '):\n",
        "    output = 20.0\n",
        "  if file.startswith('Quanghuy '):\n",
        "    output = 21.0\n",
        "  if file.startswith('Quangphuc '):\n",
        "    output = 22.0\n",
        "  if file.startswith('Sang '):\n",
        "    output = 23.0\n",
        "  if file.startswith('Thai '):\n",
        "    output = 24.0\n",
        "  if file.startswith('Tung '):\n",
        "    output = 25.0\n",
        "\n",
        "  photo = load_img(folder + file, target_size =(30,40))\n",
        "  photo = img_to_array(photo)\n",
        "  photos.append(photo)\n",
        "  labels.append(output)\n",
        "\n",
        "# Test\n",
        "photos_test = asarray(photos)\n",
        "labels_test = asarray(labels)\n",
        "print(photos_test.shape,labels_test.shape)"
      ],
      "metadata": {
        "colab": {
          "base_uri": "https://localhost:8080/"
        },
        "id": "k6SC1livK1x4",
        "outputId": "6264209d-3594-46d9-e020-9630e3fb68fd"
      },
      "execution_count": null,
      "outputs": [
        {
          "output_type": "stream",
          "name": "stdout",
          "text": [
            "(375, 30, 40, 3) (375,)\n"
          ]
        }
      ]
    },
    {
      "cell_type": "code",
      "source": [
        "class_Image =    {1: 'AnhKiet',2: 'Binh',3: 'DangKhoa',\n",
        "                  4: 'Dat',5: 'Dung',6: 'Ha',\n",
        "                  7: 'Hau',8: 'Hieu',9: 'HoaiPhong',\n",
        "                  10: 'Hoang', 11: 'Huy',12: 'KyAnh',13: 'Loc',\n",
        "                  14: 'Long',15: 'Luan',16: 'Minh',\n",
        "                  17: 'NgocThach',18: 'NhatHuy',19: 'Phat',\n",
        "                  20: 'Phuc', 21: 'QuangHuy',22: 'QuangPhuc',23: 'Sang',\n",
        "                  24: 'Thai',25: 'Tung'}"
      ],
      "metadata": {
        "id": "q4LPJl-8LAfQ"
      },
      "execution_count": null,
      "outputs": []
    },
    {
      "cell_type": "code",
      "source": [
        "#Reshape the sets and rescale within the byte range\n",
        "photos_train = photos_train.reshape(1125,30,40,3)\n",
        "photos_train = photos_train.astype('float32')/255\n",
        "photos_test = photos_test.reshape(375,30,40, 3)\n",
        "photos_test = photos_test.astype('float32')/255"
      ],
      "metadata": {
        "id": "fSV_jU8VMTWe"
      },
      "execution_count": null,
      "outputs": []
    },
    {
      "cell_type": "code",
      "source": [
        "# One-hot encode the target classes\n",
        "from keras.utils import to_categorical \n",
        "labels_train = to_categorical(labels_train)\n",
        "labels_test = to_categorical(labels_test)"
      ],
      "metadata": {
        "id": "kiPQY2nvMYTR"
      },
      "execution_count": null,
      "outputs": []
    },
    {
      "cell_type": "code",
      "source": [
        "(photos_train.shape, labels_train.shape),(photos_test.shape, labels_test.shape)"
      ],
      "metadata": {
        "colab": {
          "base_uri": "https://localhost:8080/"
        },
        "id": "aMOe0CasMZQp",
        "outputId": "c3e85fd2-7dc8-4186-c279-77b7c7108103"
      },
      "execution_count": null,
      "outputs": [
        {
          "output_type": "execute_result",
          "data": {
            "text/plain": [
              "(((1125, 30, 40, 3), (1125, 26)), ((375, 30, 40, 3), (375, 26)))"
            ]
          },
          "metadata": {},
          "execution_count": 31
        }
      ]
    },
    {
      "cell_type": "code",
      "source": [
        "from keras.layers import Dense,Dropout,Flatten,Conv2D,MaxPooling2D,Normalization\n",
        "from keras.models import Sequential,Model\n",
        "from keras import Input\n",
        "from keras.layers import LeakyReLU\n",
        "from keras.optimizers import Adam\n",
        "\n",
        "batch_size = 64\n",
        "epochs = 50\n",
        "classes = 26\n",
        "\n",
        "model = Sequential()\n",
        "# CNN\n",
        "model.add(Conv2D(32,kernel_size=(3,3),activation='linear',input_shape=(30,40,3),padding='same'))\n",
        "model.add(LeakyReLU(alpha=0.1))\n",
        "model.add(MaxPooling2D((2,2),padding = 'same'))\n",
        "#_________________________________________________________\n",
        "\n",
        "model.add(Conv2D(64,(3,3),activation = 'relu',padding = 'same'))\n",
        "model.add(LeakyReLU(alpha = 0.1))\n",
        "model.add(MaxPooling2D((2,2), padding='same'))\n",
        "#__________________________________________________________\n",
        "\n",
        "model.add(Conv2D(128,(3,3),activation = 'relu', padding = 'same'))\n",
        "model.add(LeakyReLU(alpha = 0.1))\n",
        "model.add(MaxPooling2D((2,2),padding= 'same'))\n",
        "#__________________________________________________________\n",
        "\n",
        "model.add(Conv2D(256,(3,3),activation = 'relu', padding = 'same'))\n",
        "model.add(LeakyReLU(alpha = 0.1))\n",
        "model.add(MaxPooling2D((2,2),padding= 'same'))\n",
        "#__________________________________________________________\n",
        "\n",
        "model.add(Conv2D(512,(3,3),activation = 'relu', padding = 'same'))\n",
        "model.add(LeakyReLU(alpha = 0.1))\n",
        "model.add(MaxPooling2D((2,2),padding= 'same'))\n",
        "# ANN\n",
        "model.add(Flatten())\n",
        "model.add(Dense(128,activation = 'relu'))\n",
        "model.add(LeakyReLU(alpha = 0.1))\n",
        "model.add(Dense(64,activation = 'relu'))\n",
        "model.add(LeakyReLU(alpha = 0.1))\n",
        "model.add(Dense(classes ,activation = 'softmax'))\n",
        "\n",
        "# Compile\n",
        "model.compile(optimizer = Adam(), loss = 'categorical_crossentropy', metrics = ['accuracy'])\n",
        "model.summary()\n",
        "\n",
        "train = model.fit(photos_train, labels_train, batch_size = batch_size ,epochs = epochs, verbose = 1)\n",
        "test_loss, test_acc = model.evaluate(photos_test, labels_test)\n",
        "print('Do chinh xac cua ham', test_acc)\n",
        "print('Ham mat mat', test_loss)"
      ],
      "metadata": {
        "colab": {
          "base_uri": "https://localhost:8080/"
        },
        "id": "t43Q1sdpMrCK",
        "outputId": "cdea0fb6-d6ab-4fe7-aced-8b4ef937ed39"
      },
      "execution_count": null,
      "outputs": [
        {
          "output_type": "stream",
          "name": "stdout",
          "text": [
            "Model: \"sequential_2\"\n",
            "_________________________________________________________________\n",
            " Layer (type)                Output Shape              Param #   \n",
            "=================================================================\n",
            " conv2d_10 (Conv2D)          (None, 30, 40, 32)        896       \n",
            "                                                                 \n",
            " leaky_re_lu_14 (LeakyReLU)  (None, 30, 40, 32)        0         \n",
            "                                                                 \n",
            " max_pooling2d_10 (MaxPoolin  (None, 15, 20, 32)       0         \n",
            " g2D)                                                            \n",
            "                                                                 \n",
            " conv2d_11 (Conv2D)          (None, 15, 20, 64)        18496     \n",
            "                                                                 \n",
            " leaky_re_lu_15 (LeakyReLU)  (None, 15, 20, 64)        0         \n",
            "                                                                 \n",
            " max_pooling2d_11 (MaxPoolin  (None, 8, 10, 64)        0         \n",
            " g2D)                                                            \n",
            "                                                                 \n",
            " conv2d_12 (Conv2D)          (None, 8, 10, 128)        73856     \n",
            "                                                                 \n",
            " leaky_re_lu_16 (LeakyReLU)  (None, 8, 10, 128)        0         \n",
            "                                                                 \n",
            " max_pooling2d_12 (MaxPoolin  (None, 4, 5, 128)        0         \n",
            " g2D)                                                            \n",
            "                                                                 \n",
            " conv2d_13 (Conv2D)          (None, 4, 5, 256)         295168    \n",
            "                                                                 \n",
            " leaky_re_lu_17 (LeakyReLU)  (None, 4, 5, 256)         0         \n",
            "                                                                 \n",
            " max_pooling2d_13 (MaxPoolin  (None, 2, 3, 256)        0         \n",
            " g2D)                                                            \n",
            "                                                                 \n",
            " conv2d_14 (Conv2D)          (None, 2, 3, 512)         1180160   \n",
            "                                                                 \n",
            " leaky_re_lu_18 (LeakyReLU)  (None, 2, 3, 512)         0         \n",
            "                                                                 \n",
            " max_pooling2d_14 (MaxPoolin  (None, 1, 2, 512)        0         \n",
            " g2D)                                                            \n",
            "                                                                 \n",
            " flatten_2 (Flatten)         (None, 1024)              0         \n",
            "                                                                 \n",
            " dense_6 (Dense)             (None, 128)               131200    \n",
            "                                                                 \n",
            " leaky_re_lu_19 (LeakyReLU)  (None, 128)               0         \n",
            "                                                                 \n",
            " dense_7 (Dense)             (None, 64)                8256      \n",
            "                                                                 \n",
            " leaky_re_lu_20 (LeakyReLU)  (None, 64)                0         \n",
            "                                                                 \n",
            " dense_8 (Dense)             (None, 26)                1690      \n",
            "                                                                 \n",
            "=================================================================\n",
            "Total params: 1,709,722\n",
            "Trainable params: 1,709,722\n",
            "Non-trainable params: 0\n",
            "_________________________________________________________________\n",
            "Epoch 1/50\n",
            "18/18 [==============================] - 1s 12ms/step - loss: 3.2361 - accuracy: 0.0373\n",
            "Epoch 2/50\n",
            "18/18 [==============================] - 0s 9ms/step - loss: 2.6593 - accuracy: 0.1991\n",
            "Epoch 3/50\n",
            "18/18 [==============================] - 0s 9ms/step - loss: 1.2939 - accuracy: 0.5982\n",
            "Epoch 4/50\n",
            "18/18 [==============================] - 0s 9ms/step - loss: 0.5706 - accuracy: 0.8516\n",
            "Epoch 5/50\n",
            "18/18 [==============================] - 0s 8ms/step - loss: 0.4067 - accuracy: 0.8711\n",
            "Epoch 6/50\n",
            "18/18 [==============================] - 0s 8ms/step - loss: 0.1682 - accuracy: 0.9431\n",
            "Epoch 7/50\n",
            "18/18 [==============================] - 0s 8ms/step - loss: 0.1023 - accuracy: 0.9662\n",
            "Epoch 8/50\n",
            "18/18 [==============================] - 0s 8ms/step - loss: 0.0675 - accuracy: 0.9778\n",
            "Epoch 9/50\n",
            "18/18 [==============================] - 0s 8ms/step - loss: 0.1302 - accuracy: 0.9556\n",
            "Epoch 10/50\n",
            "18/18 [==============================] - 0s 10ms/step - loss: 0.1832 - accuracy: 0.9502\n",
            "Epoch 11/50\n",
            "18/18 [==============================] - 0s 9ms/step - loss: 0.0594 - accuracy: 0.9858\n",
            "Epoch 12/50\n",
            "18/18 [==============================] - 0s 8ms/step - loss: 0.0142 - accuracy: 0.9982\n",
            "Epoch 13/50\n",
            "18/18 [==============================] - 0s 9ms/step - loss: 0.0104 - accuracy: 0.9982\n",
            "Epoch 14/50\n",
            "18/18 [==============================] - 0s 8ms/step - loss: 0.0036 - accuracy: 0.9991\n",
            "Epoch 15/50\n",
            "18/18 [==============================] - 0s 8ms/step - loss: 0.0022 - accuracy: 1.0000\n",
            "Epoch 16/50\n",
            "18/18 [==============================] - 0s 8ms/step - loss: 0.0012 - accuracy: 1.0000\n",
            "Epoch 17/50\n",
            "18/18 [==============================] - 0s 8ms/step - loss: 5.4782e-04 - accuracy: 1.0000\n",
            "Epoch 18/50\n",
            "18/18 [==============================] - 0s 8ms/step - loss: 4.3691e-04 - accuracy: 1.0000\n",
            "Epoch 19/50\n",
            "18/18 [==============================] - 0s 8ms/step - loss: 3.0829e-04 - accuracy: 1.0000\n",
            "Epoch 20/50\n",
            "18/18 [==============================] - 0s 12ms/step - loss: 2.5438e-04 - accuracy: 1.0000\n",
            "Epoch 21/50\n",
            "18/18 [==============================] - 0s 14ms/step - loss: 2.3080e-04 - accuracy: 1.0000\n",
            "Epoch 22/50\n",
            "18/18 [==============================] - 0s 11ms/step - loss: 2.0761e-04 - accuracy: 1.0000\n",
            "Epoch 23/50\n",
            "18/18 [==============================] - 0s 9ms/step - loss: 1.9158e-04 - accuracy: 1.0000\n",
            "Epoch 24/50\n",
            "18/18 [==============================] - 0s 9ms/step - loss: 1.7853e-04 - accuracy: 1.0000\n",
            "Epoch 25/50\n",
            "18/18 [==============================] - 0s 9ms/step - loss: 1.6235e-04 - accuracy: 1.0000\n",
            "Epoch 26/50\n",
            "18/18 [==============================] - 0s 9ms/step - loss: 1.5182e-04 - accuracy: 1.0000\n",
            "Epoch 27/50\n",
            "18/18 [==============================] - 0s 9ms/step - loss: 1.4113e-04 - accuracy: 1.0000\n",
            "Epoch 28/50\n",
            "18/18 [==============================] - 0s 12ms/step - loss: 1.3296e-04 - accuracy: 1.0000\n",
            "Epoch 29/50\n",
            "18/18 [==============================] - 0s 18ms/step - loss: 1.2334e-04 - accuracy: 1.0000\n",
            "Epoch 30/50\n",
            "18/18 [==============================] - 0s 9ms/step - loss: 1.1769e-04 - accuracy: 1.0000\n",
            "Epoch 31/50\n",
            "18/18 [==============================] - 0s 10ms/step - loss: 1.1119e-04 - accuracy: 1.0000\n",
            "Epoch 32/50\n",
            "18/18 [==============================] - 0s 11ms/step - loss: 1.0319e-04 - accuracy: 1.0000\n",
            "Epoch 33/50\n",
            "18/18 [==============================] - 0s 10ms/step - loss: 9.8153e-05 - accuracy: 1.0000\n",
            "Epoch 34/50\n",
            "18/18 [==============================] - 0s 9ms/step - loss: 9.2045e-05 - accuracy: 1.0000\n",
            "Epoch 35/50\n",
            "18/18 [==============================] - 0s 9ms/step - loss: 8.7430e-05 - accuracy: 1.0000\n",
            "Epoch 36/50\n",
            "18/18 [==============================] - 0s 9ms/step - loss: 8.4137e-05 - accuracy: 1.0000\n",
            "Epoch 37/50\n",
            "18/18 [==============================] - 0s 10ms/step - loss: 7.8397e-05 - accuracy: 1.0000\n",
            "Epoch 38/50\n",
            "18/18 [==============================] - 0s 9ms/step - loss: 7.5312e-05 - accuracy: 1.0000\n",
            "Epoch 39/50\n",
            "18/18 [==============================] - 0s 9ms/step - loss: 7.1261e-05 - accuracy: 1.0000\n",
            "Epoch 40/50\n",
            "18/18 [==============================] - 0s 11ms/step - loss: 6.8201e-05 - accuracy: 1.0000\n",
            "Epoch 41/50\n",
            "18/18 [==============================] - 0s 9ms/step - loss: 6.5126e-05 - accuracy: 1.0000\n",
            "Epoch 42/50\n",
            "18/18 [==============================] - 0s 8ms/step - loss: 6.2240e-05 - accuracy: 1.0000\n",
            "Epoch 43/50\n",
            "18/18 [==============================] - 0s 8ms/step - loss: 5.9339e-05 - accuracy: 1.0000\n",
            "Epoch 44/50\n",
            "18/18 [==============================] - 0s 9ms/step - loss: 5.6123e-05 - accuracy: 1.0000\n",
            "Epoch 45/50\n",
            "18/18 [==============================] - 0s 8ms/step - loss: 5.3906e-05 - accuracy: 1.0000\n",
            "Epoch 46/50\n",
            "18/18 [==============================] - 0s 10ms/step - loss: 5.2113e-05 - accuracy: 1.0000\n",
            "Epoch 47/50\n",
            "18/18 [==============================] - 0s 8ms/step - loss: 4.9207e-05 - accuracy: 1.0000\n",
            "Epoch 48/50\n",
            "18/18 [==============================] - 0s 8ms/step - loss: 4.7660e-05 - accuracy: 1.0000\n",
            "Epoch 49/50\n",
            "18/18 [==============================] - 0s 8ms/step - loss: 4.5630e-05 - accuracy: 1.0000\n",
            "Epoch 50/50\n",
            "18/18 [==============================] - 0s 8ms/step - loss: 4.3751e-05 - accuracy: 1.0000\n",
            "12/12 [==============================] - 0s 4ms/step - loss: 2.8407 - accuracy: 0.9280\n",
            "Do chinh xac cua ham 0.9279999732971191\n",
            "Ham mat mat 2.8406739234924316\n"
          ]
        }
      ]
    },
    {
      "cell_type": "code",
      "source": [
        "model.save('drive/MyDrive/modelImage.h5')"
      ],
      "metadata": {
        "id": "ciAVfXeTM9Mk"
      },
      "execution_count": null,
      "outputs": []
    },
    {
      "cell_type": "code",
      "source": [
        "import matplotlib.pyplot as plt\n",
        "accuracy = train.history['accuracy']\n",
        "loss = train.history['loss']\n",
        "epochs = range(len(accuracy))\n",
        "plt.plot(epochs, accuracy, 'r-', label = 'Training accuracy')\n",
        "plt.plot(epochs, loss, 'b', label = 'Training loss')\n",
        "plt.legend(['Train accuracy', 'Train loss'])\n",
        "plt.show()"
      ],
      "metadata": {
        "colab": {
          "base_uri": "https://localhost:8080/",
          "height": 430
        },
        "id": "jyKx9tTvNCSo",
        "outputId": "f25692d5-5406-4512-cecb-6456246d8f90"
      },
      "execution_count": null,
      "outputs": [
        {
          "output_type": "display_data",
          "data": {
            "text/plain": [
              "<Figure size 640x480 with 1 Axes>"
            ],
            "image/png": "[encoded data removed]"
          },
          "metadata": {}
        }
      ]
    },
    {
      "cell_type": "code",
      "source": [
        "#test\n",
        "import numpy as np \n",
        "filePath = '/content/drive/MyDrive/Anhkiet.jpg'\n",
        "testImage = load_img(filePath, color_mode = 'rgb', target_size=(30,40))\n",
        "arrayImage = img_to_array(testImage).reshape(1,30,40,3)/255\n",
        "pred = np.argmax(model.predict(arrayImage))\n",
        "print(\"Predicted: \", class_Image[pred])\n",
        "plt.imshow(testImage)"
      ],
      "metadata": {
        "colab": {
          "base_uri": "https://localhost:8080/",
          "height": 482
        },
        "id": "JfU5VevRNG_r",
        "outputId": "e6921e8d-dcb8-4329-b09f-57fec73731ac"
      },
      "execution_count": null,
      "outputs": [
        {
          "output_type": "stream",
          "name": "stdout",
          "text": [
            "1/1 [==============================] - 0s 99ms/step\n",
            "Predicted:  AnhKiet\n"
          ]
        },
        {
          "output_type": "execute_result",
          "data": {
            "text/plain": [
              "<matplotlib.image.AxesImage at 0x7f53e0071640>"
            ]
          },
          "metadata": {},
          "execution_count": 35
        },
        {
          "output_type": "display_data",
          "data": {
            "text/plain": [
              "<Figure size 640x480 with 1 Axes>"
            ],
            "image/png": "[encoded data removed]"
          },
          "metadata": {}
        }
      ]
    },
    {
      "cell_type": "code",
      "source": [
        "import numpy as np \n",
        "filePath = '/content/drive/MyDrive/Huy.jpg'\n",
        "testImage = load_img(filePath, color_mode = 'rgb', target_size=(30,40))\n",
        "arrayImage = img_to_array(testImage).reshape(1,30,40,3)/255\n",
        "pred = np.argmax(model.predict(arrayImage))\n",
        "print(\"Predicted: \", class_Image[pred])\n",
        "plt.imshow(testImage)"
      ],
      "metadata": {
        "colab": {
          "base_uri": "https://localhost:8080/",
          "height": 482
        },
        "id": "aBM8hsjGQ40-",
        "outputId": "7a0143be-f4ac-4d20-968a-356869b56575"
      },
      "execution_count": null,
      "outputs": [
        {
          "output_type": "stream",
          "name": "stdout",
          "text": [
            "1/1 [==============================] - 0s 19ms/step\n",
            "Predicted:  Huy\n"
          ]
        },
        {
          "output_type": "execute_result",
          "data": {
            "text/plain": [
              "<matplotlib.image.AxesImage at 0x7f536c419730>"
            ]
          },
          "metadata": {},
          "execution_count": 36
        },
        {
          "output_type": "display_data",
          "data": {
            "text/plain": [
              "<Figure size 640x480 with 1 Axes>"
            ],
            "image/png": "[encoded data removed]"
          },
          "metadata": {}
        }
      ]
    },
    {
      "cell_type": "code",
      "source": [
        "import numpy as np \n",
        "filePath = '/content/drive/MyDrive/Long.jpg'\n",
        "testImage = load_img(filePath, color_mode = 'rgb', target_size=(30,40))\n",
        "arrayImage = img_to_array(testImage).reshape(1,30,40,3)/255\n",
        "pred = np.argmax(model.predict(arrayImage))\n",
        "print(\"Predicted: \", class_Image[pred])\n",
        "plt.imshow(testImage)"
      ],
      "metadata": {
        "colab": {
          "base_uri": "https://localhost:8080/",
          "height": 482
        },
        "id": "RSoo6iCVQ9N6",
        "outputId": "fb411951-ea69-44ff-b736-dd1c775c1192"
      },
      "execution_count": null,
      "outputs": [
        {
          "output_type": "stream",
          "name": "stdout",
          "text": [
            "1/1 [==============================] - 0s 29ms/step\n",
            "Predicted:  Long\n"
          ]
        },
        {
          "output_type": "execute_result",
          "data": {
            "text/plain": [
              "<matplotlib.image.AxesImage at 0x7f536c3733d0>"
            ]
          },
          "metadata": {},
          "execution_count": 37
        },
        {
          "output_type": "display_data",
          "data": {
            "text/plain": [
              "<Figure size 640x480 with 1 Axes>"
            ],
            "image/png": "[encoded data removed]"
          },
          "metadata": {}
        }
      ]
    }
  ]
}